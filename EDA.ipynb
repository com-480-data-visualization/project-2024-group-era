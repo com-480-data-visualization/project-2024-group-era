{
 "cells": [
  {
   "cell_type": "markdown",
   "metadata": {},
   "source": [
    "# Exploratory Data Analysis (EDA)\n",
    "\n",
    "**Topic:** Endangered species\n",
    "\n",
    "**Data source:** [International Union for Conservation of Nature’s Red List of Threatened Species](https://www.iucnredlist.org/)\n",
    "\n",
    "**Goal:** The present notebook aims to join several files obtained through web scrapping and official sources from the IUCN Red List to create a dataset with information about endangered species worldwide. The dataset will serve to develop a web page showing the status of endangered species across the globe. After preprocessing the data, an exploratory data analysis will be done to understand the data and get insights from it."
   ]
  },
  {
   "cell_type": "markdown",
   "metadata": {},
   "source": [
    "#### Import required libraries"
   ]
  },
  {
   "cell_type": "code",
   "execution_count": 1,
   "metadata": {},
   "outputs": [],
   "source": [
    "import pandas as pd\n",
    "import json\n",
    "import os\n",
    "import glob"
   ]
  },
  {
   "cell_type": "markdown",
   "metadata": {},
   "source": [
    "#### Utils"
   ]
  },
  {
   "cell_type": "code",
   "execution_count": 7,
   "metadata": {},
   "outputs": [],
   "source": [
    "def save_json(dictionary, filename):\n",
    "    with open(filename, 'w') as f:\n",
    "        json.dump(dictionary, f)\n",
    "        print(f\"Saved data to {filename}\")"
   ]
  },
  {
   "cell_type": "markdown",
   "metadata": {},
   "source": [
    "#### Preprocessing"
   ]
  },
  {
   "cell_type": "code",
   "execution_count": 9,
   "metadata": {},
   "outputs": [
    {
     "name": "stdout",
     "output_type": "stream",
     "text": [
      "<class 'pandas.core.frame.DataFrame'>\n",
      "RangeIndex: 1799 entries, 0 to 1798\n",
      "Data columns (total 20 columns):\n",
      " #   Column         Non-Null Count  Dtype  \n",
      "---  ------         --------------  -----  \n",
      " 0   assessment_id  1799 non-null   int64  \n",
      " 1   id_no          1799 non-null   int64  \n",
      " 2   sci_name       1799 non-null   object \n",
      " 3   presence       1799 non-null   int64  \n",
      " 4   origin         1799 non-null   int64  \n",
      " 5   seasonal       1799 non-null   int64  \n",
      " 6   compiler       1798 non-null   object \n",
      " 7   yrcompiled     1799 non-null   int64  \n",
      " 8   citation       1798 non-null   object \n",
      " 9   legend         1799 non-null   object \n",
      " 10  subspecies     756 non-null    object \n",
      " 11  subpop         748 non-null    object \n",
      " 12  dist_comm      497 non-null    object \n",
      " 13  island         835 non-null    object \n",
      " 14  tax_comm       331 non-null    object \n",
      " 15  source         1468 non-null   object \n",
      " 16  basisofrec     1233 non-null   object \n",
      " 17  event_year     1577 non-null   float64\n",
      " 18  longitude      1799 non-null   float64\n",
      " 19  latitude       1799 non-null   float64\n",
      "dtypes: float64(3), int64(6), object(11)\n",
      "memory usage: 281.2+ KB\n"
     ]
    }
   ],
   "source": [
    "df_species = pd.read_csv('./data_viz_animals/species.csv')\n",
    "df_species.info()"
   ]
  },
  {
   "cell_type": "code",
   "execution_count": 10,
   "metadata": {},
   "outputs": [],
   "source": [
    "def clean_species_data(df_species):\n",
    "    print(\"Removing columns with many missing values...\")\n",
    "    df_species = df_species.drop(columns=['subspecies'])\n",
    "    df_species = df_species.drop(columns=['subpop'])\n",
    "    df_species = df_species.drop(columns=['dist_comm'])\n",
    "    df_species = df_species.drop(columns=['island'])\n",
    "    df_species = df_species.drop(columns=['tax_comm'])\n",
    "    return df_species\n",
    "\n",
    "def join_files(raw_data_path, species_path, output_path):\n",
    "    animals = []\n",
    "\n",
    "    df_species = clean_species_data(pd.read_csv(species_path))\n",
    "\n",
    "    try:\n",
    "        print(\"Joining files to create a single dataset...\")\n",
    "\n",
    "        for folder_id in os.listdir(raw_data_path):\n",
    "            animal = {\n",
    "                \"id\": folder_id,\n",
    "            }\n",
    "\n",
    "            animal.update(df_species[df_species['id_no'] == int(folder_id)].to_dict(orient='records')[0])\n",
    "\n",
    "            path = f\"{raw_data_path}/{folder_id}\"\n",
    "\n",
    "            if os.path.exists(path):\n",
    "                animal['countries'] = pd.read_json(f\"{path}/countries.json\")[\"result\"].to_list()\n",
    "                animal['habitats'] = pd.read_json(f\"{path}/habitats.json\")[\"result\"].to_list()\n",
    "                animal['history'] = pd.read_json(f\"{path}/history.json\")[\"result\"].to_list()\n",
    "                animal['narrative'] = pd.read_json(f\"{path}/narrative.json\")[\"result\"][0]\n",
    "                animal['species'] = pd.read_json(f\"{path}/species.json\")[\"result\"].to_list()\n",
    "                animal['threats'] = pd.read_json(f\"{path}/threats.json\")[\"result\"].to_list()\n",
    "\n",
    "            animals.append(animal)\n",
    "        \n",
    "        save_json(animals, output_path)\n",
    "    except Exception as e:\n",
    "        print(e)\n"
   ]
  },
  {
   "cell_type": "code",
   "execution_count": 11,
   "metadata": {},
   "outputs": [
    {
     "name": "stdout",
     "output_type": "stream",
     "text": [
      "Removing columns with many missing values...\n",
      "Joining files to create a single dataset...\n",
      "File ./data_viz_animals/raw_data/186593/countries.json does not exist\n"
     ]
    }
   ],
   "source": [
    "raw_data_path = './data_viz_animals/raw_data'\n",
    "species_path = './data_viz_animals/species.csv'\n",
    "output_path = './data_viz_animals/animals.json'\n",
    "\n",
    "join_files(raw_data_path, species_path, output_path)"
   ]
  },
  {
   "cell_type": "markdown",
   "metadata": {},
   "source": [
    "#### Explore the dataset"
   ]
  },
  {
   "cell_type": "code",
   "execution_count": 8,
   "metadata": {},
   "outputs": [
    {
     "data": {
      "text/html": [
       "<div>\n",
       "<style scoped>\n",
       "    .dataframe tbody tr th:only-of-type {\n",
       "        vertical-align: middle;\n",
       "    }\n",
       "\n",
       "    .dataframe tbody tr th {\n",
       "        vertical-align: top;\n",
       "    }\n",
       "\n",
       "    .dataframe thead th {\n",
       "        text-align: right;\n",
       "    }\n",
       "</style>\n",
       "<table border=\"1\" class=\"dataframe\">\n",
       "  <thead>\n",
       "    <tr style=\"text-align: right;\">\n",
       "      <th></th>\n",
       "      <th>id</th>\n",
       "      <th>assessment_id</th>\n",
       "      <th>id_no</th>\n",
       "      <th>sci_name</th>\n",
       "      <th>presence</th>\n",
       "      <th>origin</th>\n",
       "      <th>seasonal</th>\n",
       "      <th>compiler</th>\n",
       "      <th>yrcompiled</th>\n",
       "      <th>citation</th>\n",
       "      <th>...</th>\n",
       "      <th>basisofrec</th>\n",
       "      <th>event_year</th>\n",
       "      <th>longitude</th>\n",
       "      <th>latitude</th>\n",
       "      <th>countries</th>\n",
       "      <th>habitats</th>\n",
       "      <th>history</th>\n",
       "      <th>narrative</th>\n",
       "      <th>species</th>\n",
       "      <th>threats</th>\n",
       "    </tr>\n",
       "  </thead>\n",
       "  <tbody>\n",
       "    <tr>\n",
       "      <th>0</th>\n",
       "      <td>12395</td>\n",
       "      <td>506299</td>\n",
       "      <td>12395</td>\n",
       "      <td>Lucania interioris</td>\n",
       "      <td>1</td>\n",
       "      <td>1</td>\n",
       "      <td>1</td>\n",
       "      <td>Brown, W.L.</td>\n",
       "      <td>2018</td>\n",
       "      <td>IUCN (International Union for Conservation of ...</td>\n",
       "      <td>...</td>\n",
       "      <td></td>\n",
       "      <td>0.0</td>\n",
       "      <td>-102.099998</td>\n",
       "      <td>26.933332</td>\n",
       "      <td>[{'code': 'MX', 'country': 'Mexico', 'presence...</td>\n",
       "      <td>[{'code': '5.1', 'habitat': 'Wetlands (inland)...</td>\n",
       "      <td>[{'year': '2019', 'assess_year': '2018', 'code...</td>\n",
       "      <td>{'species_id': 12395, 'taxonomicnotes': None, ...</td>\n",
       "      <td>[{'taxonid': 12395, 'scientific_name': 'Lucani...</td>\n",
       "      <td>[{'code': '7.2', 'title': 'Dams &amp; water manage...</td>\n",
       "    </tr>\n",
       "    <tr>\n",
       "      <th>1</th>\n",
       "      <td>186459</td>\n",
       "      <td>1813377</td>\n",
       "      <td>186459</td>\n",
       "      <td>Steindachneridion punctatum</td>\n",
       "      <td>1</td>\n",
       "      <td>1</td>\n",
       "      <td>1</td>\n",
       "      <td>Salvador, G.N.</td>\n",
       "      <td>2020</td>\n",
       "      <td>IUCN (International Union for Conservation of ...</td>\n",
       "      <td>...</td>\n",
       "      <td>None</td>\n",
       "      <td>0.0</td>\n",
       "      <td>-51.461113</td>\n",
       "      <td>-27.606112</td>\n",
       "      <td>[{'code': 'BR', 'country': 'Brazil', 'presence...</td>\n",
       "      <td>[{'code': '5.1', 'habitat': 'Wetlands (inland)...</td>\n",
       "      <td>[{'year': '2023', 'assess_year': '2023', 'code...</td>\n",
       "      <td>{'species_id': 186459, 'taxonomicnotes': '&lt;p&gt;T...</td>\n",
       "      <td>[{'taxonid': 186459, 'scientific_name': 'Stein...</td>\n",
       "      <td>[{'code': '3.3', 'title': 'Renewable energy', ...</td>\n",
       "    </tr>\n",
       "    <tr>\n",
       "      <th>2</th>\n",
       "      <td>186541</td>\n",
       "      <td>1814672</td>\n",
       "      <td>186541</td>\n",
       "      <td>Gymnogeophagus setequedas</td>\n",
       "      <td>1</td>\n",
       "      <td>1</td>\n",
       "      <td>1</td>\n",
       "      <td>Fernando, E.</td>\n",
       "      <td>2023</td>\n",
       "      <td>IUCN (International Union for Conservation of ...</td>\n",
       "      <td>...</td>\n",
       "      <td>None</td>\n",
       "      <td>0.0</td>\n",
       "      <td>-55.500000</td>\n",
       "      <td>-25.333334</td>\n",
       "      <td>[{'code': 'AR', 'country': 'Argentina', 'prese...</td>\n",
       "      <td>[{'code': '5.1', 'habitat': 'Wetlands (inland)...</td>\n",
       "      <td>[{'year': '2023', 'assess_year': '2020', 'code...</td>\n",
       "      <td>{'species_id': 186541, 'taxonomicnotes': '&lt;p&gt;T...</td>\n",
       "      <td>[{'taxonid': 186541, 'scientific_name': 'Gymno...</td>\n",
       "      <td>[{'code': '2.1', 'title': 'Annual &amp; perennial ...</td>\n",
       "    </tr>\n",
       "  </tbody>\n",
       "</table>\n",
       "<p>3 rows × 22 columns</p>\n",
       "</div>"
      ],
      "text/plain": [
       "       id  assessment_id   id_no                     sci_name  presence  \\\n",
       "0   12395         506299   12395           Lucania interioris         1   \n",
       "1  186459        1813377  186459  Steindachneridion punctatum         1   \n",
       "2  186541        1814672  186541    Gymnogeophagus setequedas         1   \n",
       "\n",
       "   origin  seasonal        compiler  yrcompiled  \\\n",
       "0       1         1     Brown, W.L.        2018   \n",
       "1       1         1  Salvador, G.N.        2020   \n",
       "2       1         1    Fernando, E.        2023   \n",
       "\n",
       "                                            citation  ... basisofrec  \\\n",
       "0  IUCN (International Union for Conservation of ...  ...              \n",
       "1  IUCN (International Union for Conservation of ...  ...       None   \n",
       "2  IUCN (International Union for Conservation of ...  ...       None   \n",
       "\n",
       "  event_year   longitude   latitude  \\\n",
       "0        0.0 -102.099998  26.933332   \n",
       "1        0.0  -51.461113 -27.606112   \n",
       "2        0.0  -55.500000 -25.333334   \n",
       "\n",
       "                                           countries  \\\n",
       "0  [{'code': 'MX', 'country': 'Mexico', 'presence...   \n",
       "1  [{'code': 'BR', 'country': 'Brazil', 'presence...   \n",
       "2  [{'code': 'AR', 'country': 'Argentina', 'prese...   \n",
       "\n",
       "                                            habitats  \\\n",
       "0  [{'code': '5.1', 'habitat': 'Wetlands (inland)...   \n",
       "1  [{'code': '5.1', 'habitat': 'Wetlands (inland)...   \n",
       "2  [{'code': '5.1', 'habitat': 'Wetlands (inland)...   \n",
       "\n",
       "                                             history  \\\n",
       "0  [{'year': '2019', 'assess_year': '2018', 'code...   \n",
       "1  [{'year': '2023', 'assess_year': '2023', 'code...   \n",
       "2  [{'year': '2023', 'assess_year': '2020', 'code...   \n",
       "\n",
       "                                           narrative  \\\n",
       "0  {'species_id': 12395, 'taxonomicnotes': None, ...   \n",
       "1  {'species_id': 186459, 'taxonomicnotes': '<p>T...   \n",
       "2  {'species_id': 186541, 'taxonomicnotes': '<p>T...   \n",
       "\n",
       "                                             species  \\\n",
       "0  [{'taxonid': 12395, 'scientific_name': 'Lucani...   \n",
       "1  [{'taxonid': 186459, 'scientific_name': 'Stein...   \n",
       "2  [{'taxonid': 186541, 'scientific_name': 'Gymno...   \n",
       "\n",
       "                                             threats  \n",
       "0  [{'code': '7.2', 'title': 'Dams & water manage...  \n",
       "1  [{'code': '3.3', 'title': 'Renewable energy', ...  \n",
       "2  [{'code': '2.1', 'title': 'Annual & perennial ...  \n",
       "\n",
       "[3 rows x 22 columns]"
      ]
     },
     "execution_count": 8,
     "metadata": {},
     "output_type": "execute_result"
    }
   ],
   "source": [
    "data_path = './data_viz_animals/animals.json'\n",
    "\n",
    "df_animals = pd.read_json(data_path)\n",
    "df_animals.head(3)"
   ]
  },
  {
   "cell_type": "code",
   "execution_count": 13,
   "metadata": {},
   "outputs": [
    {
     "name": "stdout",
     "output_type": "stream",
     "text": [
      "<class 'pandas.core.frame.DataFrame'>\n",
      "Index: 24 entries, 0 to 23\n",
      "Data columns (total 22 columns):\n",
      " #   Column         Non-Null Count  Dtype  \n",
      "---  ------         --------------  -----  \n",
      " 0   id             24 non-null     int64  \n",
      " 1   assessment_id  24 non-null     int64  \n",
      " 2   id_no          24 non-null     int64  \n",
      " 3   sci_name       24 non-null     object \n",
      " 4   presence       24 non-null     int64  \n",
      " 5   origin         24 non-null     int64  \n",
      " 6   seasonal       24 non-null     int64  \n",
      " 7   compiler       24 non-null     object \n",
      " 8   yrcompiled     24 non-null     int64  \n",
      " 9   citation       24 non-null     object \n",
      " 10  legend         24 non-null     object \n",
      " 11  source         20 non-null     object \n",
      " 12  basisofrec     17 non-null     object \n",
      " 13  event_year     19 non-null     float64\n",
      " 14  longitude      24 non-null     float64\n",
      " 15  latitude       24 non-null     float64\n",
      " 16  countries      24 non-null     object \n",
      " 17  habitats       24 non-null     object \n",
      " 18  history        24 non-null     object \n",
      " 19  narrative      24 non-null     object \n",
      " 20  species        24 non-null     object \n",
      " 21  threats        24 non-null     object \n",
      "dtypes: float64(3), int64(7), object(12)\n",
      "memory usage: 4.3+ KB\n"
     ]
    }
   ],
   "source": [
    "df_animals.info()"
   ]
  },
  {
   "cell_type": "code",
   "execution_count": null,
   "metadata": {},
   "outputs": [],
   "source": []
  }
 ],
 "metadata": {
  "kernelspec": {
   "display_name": "modern_nlp",
   "language": "python",
   "name": "python3"
  },
  "language_info": {
   "codemirror_mode": {
    "name": "ipython",
    "version": 3
   },
   "file_extension": ".py",
   "mimetype": "text/x-python",
   "name": "python",
   "nbconvert_exporter": "python",
   "pygments_lexer": "ipython3",
   "version": "3.10.13"
  }
 },
 "nbformat": 4,
 "nbformat_minor": 2
}
